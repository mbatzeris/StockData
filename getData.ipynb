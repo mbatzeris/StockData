{
 "cells": [
  {
   "cell_type": "code",
   "execution_count": 1,
   "metadata": {},
   "outputs": [
    {
     "data": {
      "text/plain": [
       "<IB connected to 127.0.0.1:7497 clientId=14>"
      ]
     },
     "execution_count": 1,
     "metadata": {},
     "output_type": "execute_result"
    }
   ],
   "source": [
    "from ib_insync import *\n",
    "util.startLoop()\n",
    "\n",
    "ib = IB()\n",
    "ib.connect('127.0.0.1', 7497, clientId=14)"
   ]
  },
  {
   "cell_type": "code",
   "execution_count": 2,
   "metadata": {},
   "outputs": [
    {
     "data": {
      "text/plain": [
       "datetime.datetime(2010, 6, 29, 8, 0)"
      ]
     },
     "execution_count": 2,
     "metadata": {},
     "output_type": "execute_result"
    }
   ],
   "source": [
    "contract = Stock('TSLA', 'SMART', 'USD')\n",
    "\n",
    "ib.reqHeadTimeStamp(contract, whatToShow='TRADES', useRTH=True)"
   ]
  },
  {
   "cell_type": "code",
   "execution_count": 3,
   "metadata": {},
   "outputs": [],
   "source": [
    "bars = ib.reqHistoricalData(\n",
    "        contract,\n",
    "        endDateTime='',\n",
    "        durationStr='60 D',\n",
    "        barSizeSetting='1 hour',\n",
    "        whatToShow='TRADES',\n",
    "        useRTH=True,\n",
    "        formatDate=1)"
   ]
  },
  {
   "cell_type": "code",
   "execution_count": 4,
   "metadata": {},
   "outputs": [
    {
     "data": {
      "text/plain": [
       "BarData(date=datetime.datetime(2019, 8, 5, 16, 30), open=229.6, high=231.37, low=227.75, close=228.24, volume=8897, average=229.191, barCount=3728)"
      ]
     },
     "execution_count": 4,
     "metadata": {},
     "output_type": "execute_result"
    }
   ],
   "source": [
    "bars[0]"
   ]
  },
  {
   "cell_type": "code",
   "execution_count": 6,
   "metadata": {
    "scrolled": true
   },
   "outputs": [
    {
     "data": {
      "text/html": [
       "<div>\n",
       "<style scoped>\n",
       "    .dataframe tbody tr th:only-of-type {\n",
       "        vertical-align: middle;\n",
       "    }\n",
       "\n",
       "    .dataframe tbody tr th {\n",
       "        vertical-align: top;\n",
       "    }\n",
       "\n",
       "    .dataframe thead th {\n",
       "        text-align: right;\n",
       "    }\n",
       "</style>\n",
       "<table border=\"1\" class=\"dataframe\">\n",
       "  <thead>\n",
       "    <tr style=\"text-align: right;\">\n",
       "      <th></th>\n",
       "      <th>date</th>\n",
       "      <th>open</th>\n",
       "      <th>high</th>\n",
       "      <th>low</th>\n",
       "      <th>close</th>\n",
       "      <th>volume</th>\n",
       "      <th>average</th>\n",
       "      <th>barCount</th>\n",
       "    </tr>\n",
       "  </thead>\n",
       "  <tbody>\n",
       "    <tr>\n",
       "      <th>0</th>\n",
       "      <td>2019-08-05 16:30:00</td>\n",
       "      <td>229.60</td>\n",
       "      <td>231.37</td>\n",
       "      <td>227.75</td>\n",
       "      <td>228.24</td>\n",
       "      <td>8897</td>\n",
       "      <td>229.191</td>\n",
       "      <td>3728</td>\n",
       "    </tr>\n",
       "    <tr>\n",
       "      <th>1</th>\n",
       "      <td>2019-08-05 17:00:00</td>\n",
       "      <td>228.21</td>\n",
       "      <td>228.65</td>\n",
       "      <td>225.77</td>\n",
       "      <td>226.85</td>\n",
       "      <td>10406</td>\n",
       "      <td>227.289</td>\n",
       "      <td>5229</td>\n",
       "    </tr>\n",
       "    <tr>\n",
       "      <th>2</th>\n",
       "      <td>2019-08-05 18:00:00</td>\n",
       "      <td>226.67</td>\n",
       "      <td>228.60</td>\n",
       "      <td>225.82</td>\n",
       "      <td>227.49</td>\n",
       "      <td>8095</td>\n",
       "      <td>227.545</td>\n",
       "      <td>4036</td>\n",
       "    </tr>\n",
       "    <tr>\n",
       "      <th>3</th>\n",
       "      <td>2019-08-05 19:00:00</td>\n",
       "      <td>227.43</td>\n",
       "      <td>228.00</td>\n",
       "      <td>226.34</td>\n",
       "      <td>227.40</td>\n",
       "      <td>4364</td>\n",
       "      <td>227.199</td>\n",
       "      <td>2309</td>\n",
       "    </tr>\n",
       "    <tr>\n",
       "      <th>4</th>\n",
       "      <td>2019-08-05 20:00:00</td>\n",
       "      <td>227.56</td>\n",
       "      <td>229.44</td>\n",
       "      <td>227.35</td>\n",
       "      <td>229.38</td>\n",
       "      <td>5184</td>\n",
       "      <td>228.572</td>\n",
       "      <td>2801</td>\n",
       "    </tr>\n",
       "  </tbody>\n",
       "</table>\n",
       "</div>"
      ],
      "text/plain": [
       "                 date    open    high     low   close  volume  average  \\\n",
       "0 2019-08-05 16:30:00  229.60  231.37  227.75  228.24    8897  229.191   \n",
       "1 2019-08-05 17:00:00  228.21  228.65  225.77  226.85   10406  227.289   \n",
       "2 2019-08-05 18:00:00  226.67  228.60  225.82  227.49    8095  227.545   \n",
       "3 2019-08-05 19:00:00  227.43  228.00  226.34  227.40    4364  227.199   \n",
       "4 2019-08-05 20:00:00  227.56  229.44  227.35  229.38    5184  228.572   \n",
       "\n",
       "   barCount  \n",
       "0      3728  \n",
       "1      5229  \n",
       "2      4036  \n",
       "3      2309  \n",
       "4      2801  "
      ]
     },
     "metadata": {},
     "output_type": "display_data"
    },
    {
     "data": {
      "text/html": [
       "<div>\n",
       "<style scoped>\n",
       "    .dataframe tbody tr th:only-of-type {\n",
       "        vertical-align: middle;\n",
       "    }\n",
       "\n",
       "    .dataframe tbody tr th {\n",
       "        vertical-align: top;\n",
       "    }\n",
       "\n",
       "    .dataframe thead th {\n",
       "        text-align: right;\n",
       "    }\n",
       "</style>\n",
       "<table border=\"1\" class=\"dataframe\">\n",
       "  <thead>\n",
       "    <tr style=\"text-align: right;\">\n",
       "      <th></th>\n",
       "      <th>date</th>\n",
       "      <th>open</th>\n",
       "      <th>high</th>\n",
       "      <th>low</th>\n",
       "      <th>close</th>\n",
       "      <th>volume</th>\n",
       "      <th>average</th>\n",
       "      <th>barCount</th>\n",
       "    </tr>\n",
       "  </thead>\n",
       "  <tbody>\n",
       "    <tr>\n",
       "      <th>415</th>\n",
       "      <td>2019-10-28 17:00:00</td>\n",
       "      <td>333.51</td>\n",
       "      <td>335.00</td>\n",
       "      <td>331.33</td>\n",
       "      <td>332.81</td>\n",
       "      <td>15124</td>\n",
       "      <td>333.164</td>\n",
       "      <td>8303</td>\n",
       "    </tr>\n",
       "    <tr>\n",
       "      <th>416</th>\n",
       "      <td>2019-10-28 18:00:00</td>\n",
       "      <td>332.79</td>\n",
       "      <td>333.21</td>\n",
       "      <td>322.60</td>\n",
       "      <td>324.77</td>\n",
       "      <td>23241</td>\n",
       "      <td>326.669</td>\n",
       "      <td>12463</td>\n",
       "    </tr>\n",
       "    <tr>\n",
       "      <th>417</th>\n",
       "      <td>2019-10-28 19:00:00</td>\n",
       "      <td>324.75</td>\n",
       "      <td>327.50</td>\n",
       "      <td>323.13</td>\n",
       "      <td>326.34</td>\n",
       "      <td>14482</td>\n",
       "      <td>325.184</td>\n",
       "      <td>7545</td>\n",
       "    </tr>\n",
       "    <tr>\n",
       "      <th>418</th>\n",
       "      <td>2019-10-28 20:00:00</td>\n",
       "      <td>326.45</td>\n",
       "      <td>330.31</td>\n",
       "      <td>326.38</td>\n",
       "      <td>328.80</td>\n",
       "      <td>15776</td>\n",
       "      <td>328.441</td>\n",
       "      <td>8834</td>\n",
       "    </tr>\n",
       "    <tr>\n",
       "      <th>419</th>\n",
       "      <td>2019-10-28 21:00:00</td>\n",
       "      <td>328.90</td>\n",
       "      <td>330.24</td>\n",
       "      <td>326.75</td>\n",
       "      <td>327.51</td>\n",
       "      <td>12115</td>\n",
       "      <td>328.095</td>\n",
       "      <td>8074</td>\n",
       "    </tr>\n",
       "  </tbody>\n",
       "</table>\n",
       "</div>"
      ],
      "text/plain": [
       "                   date    open    high     low   close  volume  average  \\\n",
       "415 2019-10-28 17:00:00  333.51  335.00  331.33  332.81   15124  333.164   \n",
       "416 2019-10-28 18:00:00  332.79  333.21  322.60  324.77   23241  326.669   \n",
       "417 2019-10-28 19:00:00  324.75  327.50  323.13  326.34   14482  325.184   \n",
       "418 2019-10-28 20:00:00  326.45  330.31  326.38  328.80   15776  328.441   \n",
       "419 2019-10-28 21:00:00  328.90  330.24  326.75  327.51   12115  328.095   \n",
       "\n",
       "     barCount  \n",
       "415      8303  \n",
       "416     12463  \n",
       "417      7545  \n",
       "418      8834  \n",
       "419      8074  "
      ]
     },
     "metadata": {},
     "output_type": "display_data"
    },
    {
     "data": {
      "text/html": [
       "<div>\n",
       "<style scoped>\n",
       "    .dataframe tbody tr th:only-of-type {\n",
       "        vertical-align: middle;\n",
       "    }\n",
       "\n",
       "    .dataframe tbody tr th {\n",
       "        vertical-align: top;\n",
       "    }\n",
       "\n",
       "    .dataframe thead th {\n",
       "        text-align: right;\n",
       "    }\n",
       "</style>\n",
       "<table border=\"1\" class=\"dataframe\">\n",
       "  <thead>\n",
       "    <tr style=\"text-align: right;\">\n",
       "      <th></th>\n",
       "      <th>date</th>\n",
       "      <th>open</th>\n",
       "      <th>high</th>\n",
       "      <th>low</th>\n",
       "      <th>close</th>\n",
       "      <th>volume</th>\n",
       "      <th>average</th>\n",
       "      <th>barCount</th>\n",
       "    </tr>\n",
       "  </thead>\n",
       "  <tbody>\n",
       "    <tr>\n",
       "      <th>0</th>\n",
       "      <td>2019-08-05 16:30:00</td>\n",
       "      <td>229.60</td>\n",
       "      <td>231.37</td>\n",
       "      <td>227.75</td>\n",
       "      <td>228.24</td>\n",
       "      <td>8897</td>\n",
       "      <td>229.191</td>\n",
       "      <td>3728</td>\n",
       "    </tr>\n",
       "    <tr>\n",
       "      <th>1</th>\n",
       "      <td>2019-08-05 17:00:00</td>\n",
       "      <td>228.21</td>\n",
       "      <td>228.65</td>\n",
       "      <td>225.77</td>\n",
       "      <td>226.85</td>\n",
       "      <td>10406</td>\n",
       "      <td>227.289</td>\n",
       "      <td>5229</td>\n",
       "    </tr>\n",
       "    <tr>\n",
       "      <th>2</th>\n",
       "      <td>2019-08-05 18:00:00</td>\n",
       "      <td>226.67</td>\n",
       "      <td>228.60</td>\n",
       "      <td>225.82</td>\n",
       "      <td>227.49</td>\n",
       "      <td>8095</td>\n",
       "      <td>227.545</td>\n",
       "      <td>4036</td>\n",
       "    </tr>\n",
       "    <tr>\n",
       "      <th>3</th>\n",
       "      <td>2019-08-05 19:00:00</td>\n",
       "      <td>227.43</td>\n",
       "      <td>228.00</td>\n",
       "      <td>226.34</td>\n",
       "      <td>227.40</td>\n",
       "      <td>4364</td>\n",
       "      <td>227.199</td>\n",
       "      <td>2309</td>\n",
       "    </tr>\n",
       "    <tr>\n",
       "      <th>4</th>\n",
       "      <td>2019-08-05 20:00:00</td>\n",
       "      <td>227.56</td>\n",
       "      <td>229.44</td>\n",
       "      <td>227.35</td>\n",
       "      <td>229.38</td>\n",
       "      <td>5184</td>\n",
       "      <td>228.572</td>\n",
       "      <td>2801</td>\n",
       "    </tr>\n",
       "    <tr>\n",
       "      <th>...</th>\n",
       "      <td>...</td>\n",
       "      <td>...</td>\n",
       "      <td>...</td>\n",
       "      <td>...</td>\n",
       "      <td>...</td>\n",
       "      <td>...</td>\n",
       "      <td>...</td>\n",
       "      <td>...</td>\n",
       "    </tr>\n",
       "    <tr>\n",
       "      <th>415</th>\n",
       "      <td>2019-10-28 17:00:00</td>\n",
       "      <td>333.51</td>\n",
       "      <td>335.00</td>\n",
       "      <td>331.33</td>\n",
       "      <td>332.81</td>\n",
       "      <td>15124</td>\n",
       "      <td>333.164</td>\n",
       "      <td>8303</td>\n",
       "    </tr>\n",
       "    <tr>\n",
       "      <th>416</th>\n",
       "      <td>2019-10-28 18:00:00</td>\n",
       "      <td>332.79</td>\n",
       "      <td>333.21</td>\n",
       "      <td>322.60</td>\n",
       "      <td>324.77</td>\n",
       "      <td>23241</td>\n",
       "      <td>326.669</td>\n",
       "      <td>12463</td>\n",
       "    </tr>\n",
       "    <tr>\n",
       "      <th>417</th>\n",
       "      <td>2019-10-28 19:00:00</td>\n",
       "      <td>324.75</td>\n",
       "      <td>327.50</td>\n",
       "      <td>323.13</td>\n",
       "      <td>326.34</td>\n",
       "      <td>14482</td>\n",
       "      <td>325.184</td>\n",
       "      <td>7545</td>\n",
       "    </tr>\n",
       "    <tr>\n",
       "      <th>418</th>\n",
       "      <td>2019-10-28 20:00:00</td>\n",
       "      <td>326.45</td>\n",
       "      <td>330.31</td>\n",
       "      <td>326.38</td>\n",
       "      <td>328.80</td>\n",
       "      <td>15776</td>\n",
       "      <td>328.441</td>\n",
       "      <td>8834</td>\n",
       "    </tr>\n",
       "    <tr>\n",
       "      <th>419</th>\n",
       "      <td>2019-10-28 21:00:00</td>\n",
       "      <td>328.90</td>\n",
       "      <td>330.24</td>\n",
       "      <td>326.75</td>\n",
       "      <td>327.51</td>\n",
       "      <td>12115</td>\n",
       "      <td>328.095</td>\n",
       "      <td>8074</td>\n",
       "    </tr>\n",
       "  </tbody>\n",
       "</table>\n",
       "<p>420 rows × 8 columns</p>\n",
       "</div>"
      ],
      "text/plain": [
       "                   date    open    high     low   close  volume  average  \\\n",
       "0   2019-08-05 16:30:00  229.60  231.37  227.75  228.24    8897  229.191   \n",
       "1   2019-08-05 17:00:00  228.21  228.65  225.77  226.85   10406  227.289   \n",
       "2   2019-08-05 18:00:00  226.67  228.60  225.82  227.49    8095  227.545   \n",
       "3   2019-08-05 19:00:00  227.43  228.00  226.34  227.40    4364  227.199   \n",
       "4   2019-08-05 20:00:00  227.56  229.44  227.35  229.38    5184  228.572   \n",
       "..                  ...     ...     ...     ...     ...     ...      ...   \n",
       "415 2019-10-28 17:00:00  333.51  335.00  331.33  332.81   15124  333.164   \n",
       "416 2019-10-28 18:00:00  332.79  333.21  322.60  324.77   23241  326.669   \n",
       "417 2019-10-28 19:00:00  324.75  327.50  323.13  326.34   14482  325.184   \n",
       "418 2019-10-28 20:00:00  326.45  330.31  326.38  328.80   15776  328.441   \n",
       "419 2019-10-28 21:00:00  328.90  330.24  326.75  327.51   12115  328.095   \n",
       "\n",
       "     barCount  \n",
       "0        3728  \n",
       "1        5229  \n",
       "2        4036  \n",
       "3        2309  \n",
       "4        2801  \n",
       "..        ...  \n",
       "415      8303  \n",
       "416     12463  \n",
       "417      7545  \n",
       "418      8834  \n",
       "419      8074  \n",
       "\n",
       "[420 rows x 8 columns]"
      ]
     },
     "metadata": {},
     "output_type": "display_data"
    }
   ],
   "source": [
    "df = util.df(bars)\n",
    "\n",
    "display(df.head())\n",
    "display(df.tail())\n",
    "display(df)"
   ]
  },
  {
   "cell_type": "code",
   "execution_count": 7,
   "metadata": {},
   "outputs": [],
   "source": [
    "%matplotlib inline"
   ]
  },
  {
   "cell_type": "code",
   "execution_count": 28,
   "metadata": {},
   "outputs": [
    {
     "data": {
      "image/png": "[encoded data removed]",
      "text/plain": [
       "<Figure size 432x288 with 1 Axes>"
      ]
     },
     "metadata": {
      "needs_background": "light"
     },
     "output_type": "display_data"
    }
   ],
   "source": [
    "df.plot(y='close',x=\"date\");"
   ]
  },
  {
   "cell_type": "code",
   "execution_count": 15,
   "metadata": {},
   "outputs": [
    {
     "data": {
      "image/png": "[encoded data removed]",
      "text/plain": [
       "<Figure size 720x432 with 1 Axes>"
      ]
     },
     "metadata": {
      "needs_background": "light"
     },
     "output_type": "display_data"
    }
   ],
   "source": [
    "util.barplot(bars[-400:], title=contract.symbol,);"
   ]
  },
  {
   "cell_type": "code",
   "execution_count": 27,
   "metadata": {},
   "outputs": [
    {
     "name": "stderr",
     "output_type": "stream",
     "text": [
      "IOPub data rate exceeded.\n",
      "The notebook server will temporarily stop sending output\n",
      "to the client in order to avoid crashing it.\n",
      "To change this limit, set the config variable\n",
      "`--NotebookApp.iopub_data_rate_limit`.\n",
      "\n",
      "Current values:\n",
      "NotebookApp.iopub_data_rate_limit=1000000.0 (bytes/sec)\n",
      "NotebookApp.rate_limit_window=3.0 (secs)\n",
      "\n"
     ]
    }
   ],
   "source": [
    "contract = Stock('AAPL', 'SMART', 'USD')\n",
    "ticker = ib.reqFundamentalData(contract, 'ReportsOwnership')\n",
    "ib.sleep(2)\n",
    "print(ticker)"
   ]
  },
  {
   "cell_type": "code",
   "execution_count": null,
   "metadata": {},
   "outputs": [],
   "source": []
  }
 ],
 "metadata": {
  "kernelspec": {
   "display_name": "Python 3",
   "language": "python",
   "name": "python3"
  },
  "language_info": {
   "codemirror_mode": {
    "name": "ipython",
    "version": 3
   },
   "file_extension": ".py",
   "mimetype": "text/x-python",
   "name": "python",
   "nbconvert_exporter": "python",
   "pygments_lexer": "ipython3",
   "version": "3.6.9"
  }
 },
 "nbformat": 4,
 "nbformat_minor": 2
}
